{
 "cells": [
  {
   "cell_type": "code",
   "execution_count": null,
   "metadata": {},
   "outputs": [],
   "source": [
    "%load_ext autoreload\n",
    "%autoreload 2\n",
    "# !pip install seaborn ipympl\n",
    "\n",
    "import sys\n",
    "from pathlib import Path\n",
    "sys.path.append(str(Path().cwd().parent))\n",
    "import numpy as np\n",
    "\n",
    "%matplotlib widget\n",
    "import matplotlib.pyplot as plt\n",
    "import pandas as pd\n",
    "from tools import load_measurements, constrain_measurements_by_std\n",
    "\n",
    "path_to_files = Path.cwd()\n",
    "while not (path_to_files / \"rawData\").is_dir():\n",
    "    path_to_files = path_to_files.parent\n",
    "path_to_files = path_to_files / \"rawData\"\n",
    "\n",
    "\n",
    "data = load_measurements(path_to_files=path_to_files)\n",
    "print(f'number of samples before trimming is {len(data.fpa)}', flush=True)\n",
    "print(f'number of unique FPA before trimming is {len(set(data.fpa))}', flush=True)\n",
    "print(f'number of unique BB before trimming is {len(set(data.blackbody))}', flush=True)\n",
    "\n",
    "data = constrain_measurements_by_std(data, threshold=3, plot_top_three=False, verbose=False)\n",
    "data.U100C2C()\n",
    "data.frames = 0.04 * data.frames - 273.15  # tlinear\n",
    "\n",
    "print(f'Image size is {data.h} x {data.w}', flush=True)\n",
    "print(f'number of samples is {len(data.fpa)}', flush=True)\n",
    "print(f'number of unique FPA: {len(set(data.fpa))}', flush=True)\n",
    "print(f'number of unique BB: {len(set(data.blackbody))}', flush=True)"
   ]
  },
  {
   "cell_type": "code",
   "execution_count": null,
   "metadata": {},
   "outputs": [],
   "source": [
    "plt.figure()\n",
    "plt.plot(data.frames[:, 128, 128], label='Estimation')\n",
    "plt.plot(data.blackbody, label='Blackbody')\n",
    "plt.title('Estimation of temperature')\n",
    "plt.xlabel('Frame')\n",
    "plt.ylabel('Temperature [C]')\n",
    "plt.legend()\n",
    "plt.grid()\n",
    "plt.show()\n"
   ]
  },
  {
   "cell_type": "code",
   "execution_count": null,
   "metadata": {},
   "outputs": [],
   "source": [
    "plt.figure()\n",
    "plt.plot(data.frames[:, 128, 128] - data.blackbody)\n",
    "plt.title('Difference between estimation to blackbody temperatures')\n",
    "plt.xlabel('Frame')\n",
    "plt.ylabel('Error [C]')\n",
    "plt.grid()\n",
    "plt.show()\n"
   ]
  }
 ],
 "metadata": {
  "kernelspec": {
   "display_name": "Python 3.10.4 ('venv': venv)",
   "language": "python",
   "name": "python3"
  },
  "language_info": {
   "codemirror_mode": {
    "name": "ipython",
    "version": 3
   },
   "file_extension": ".py",
   "mimetype": "text/x-python",
   "name": "python",
   "nbconvert_exporter": "python",
   "pygments_lexer": "ipython3",
   "version": "3.10.4"
  },
  "orig_nbformat": 4,
  "vscode": {
   "interpreter": {
    "hash": "8f5f9aa6f6c40aa102020d15726f2049ee5d978e233ddd451305a25cbc67e9a8"
   }
  }
 },
 "nbformat": 4,
 "nbformat_minor": 2
}
